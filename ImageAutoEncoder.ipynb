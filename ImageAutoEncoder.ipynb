{
 "cells": [
  {
   "cell_type": "code",
   "execution_count": 1,
   "metadata": {
    "colab": {},
    "colab_type": "code",
    "id": "SeeJinSkITLa"
   },
   "outputs": [],
   "source": [
    "import tensorflow as tf\n",
    "from tensorflow import keras\n",
    "import matplotlib.pyplot as plt"
   ]
  },
  {
   "cell_type": "code",
   "execution_count": 3,
   "metadata": {
    "colab": {},
    "colab_type": "code",
    "id": "xWCuufFALY-G"
   },
   "outputs": [],
   "source": [
    "autoencoder = keras.Sequential([\n",
    "    keras.layers.Conv2D(64, kernel_size=3, padding='same', activation='relu'),\n",
    "    keras.layers.Conv2D(64, kernel_size=3, padding='same', activation='relu'),\n",
    "    keras.layers.MaxPooling2D(),\n",
    "    keras.layers.Conv2D(128, kernel_size=3, padding='same', activation='relu'),\n",
    "    keras.layers.Conv2D(128, kernel_size=3, padding='same', activation='relu'),\n",
    "    keras.layers.BatchNormalization(),\n",
    "    keras.layers.MaxPooling2D(),\n",
    "    keras.layers.Conv2D(256, kernel_size=3, padding='same', activation='relu'),\n",
    "    keras.layers.Conv2D(256, kernel_size=3, padding='same', activation='relu'),\n",
    "    keras.layers.MaxPooling2D(),\n",
    "    keras.layers.Conv2D(512, kernel_size=3, padding='same', activation='relu'),\n",
    "    keras.layers.Conv2D(512, kernel_size=3, padding='same', activation='relu'),\n",
    "    keras.layers.BatchNormalization(),\n",
    "    keras.layers.UpSampling2D(),\n",
    "    keras.layers.Conv2D(256, kernel_size=3, padding='same', activation='relu'),   \n",
    "    keras.layers.Conv2D(256, kernel_size=3, padding='same', activation='relu'),\n",
    "    keras.layers.UpSampling2D(),\n",
    "    keras.layers.Conv2D(128, kernel_size=3, padding='same', activation='relu'),   \n",
    "    keras.layers.Conv2D(128, kernel_size=3, padding='same', activation='relu'),\n",
    "    keras.layers.UpSampling2D(),\n",
    "    keras.layers.Conv2D(64, kernel_size=3, padding='same', activation='relu'),   \n",
    "    keras.layers.Conv2D(64, kernel_size=3, padding='same', activation='relu'),\n",
    "    keras.layers.BatchNormalization(),\n",
    "    keras.layers.Conv2D(3, kernel_size=3, padding='same', activation='relu')\n",
    "])"
   ]
  },
  {
   "cell_type": "code",
   "execution_count": 2,
   "metadata": {
    "colab": {},
    "colab_type": "code",
    "id": "HIVOdZEeUnGU"
   },
   "outputs": [],
   "source": [
    "def befo_input(filename):\n",
    "    image = tf.io.read_file(filename)\n",
    "    image = tf.image.decode_jpeg(image, channels=3, try_recover_truncated=True, acceptable_fraction=0.5)\n",
    "    image = tf.image.convert_image_dtype(image, tf.float32)\n",
    "    image = tf.image.resize(image, size=[360, 320])\n",
    "    image2 = tf.image.resize(image, size=[360, 320])\n",
    "    return (image, image2)"
   ]
  },
  {
   "cell_type": "code",
   "execution_count": 3,
   "metadata": {
    "colab": {},
    "colab_type": "code",
    "id": "k97CUI_hSsAP"
   },
   "outputs": [],
   "source": [
    "batch_size=1\n",
    "content_list_ds = tf.data.Dataset.list_files('image' + '/*.jpg')\n",
    "content_list_ds = content_list_ds.shuffle(20000)\n",
    "content_ds = content_list_ds.map(befo_input)\n",
    "content_ds = content_ds.batch(batch_size)"
   ]
  },
  {
   "cell_type": "code",
   "execution_count": 23,
   "metadata": {
    "colab": {},
    "colab_type": "code",
    "id": "3JPnIBxcdxhw"
   },
   "outputs": [],
   "source": [
    "autoencoder.compile(loss=keras.losses.MeanSquaredError(), optimizer=keras.optimizers.SGD(learning_rate=0.0003, momentum=0.9))"
   ]
  },
  {
   "cell_type": "code",
   "execution_count": null,
   "metadata": {
    "scrolled": false
   },
   "outputs": [],
   "source": [
    "# 56\n",
    "history = autoencoder.fit(content_ds,epochs=1)"
   ]
  },
  {
   "cell_type": "code",
   "execution_count": 5,
   "metadata": {
    "colab": {},
    "colab_type": "code",
    "id": "M_Pa4L187mJU"
   },
   "outputs": [],
   "source": [
    "a_img = tf.io.read_file('image/1.jpg')\n",
    "a_img = tf.image.decode_jpeg(a_img, channels=3)\n",
    "a_img = tf.image.convert_image_dtype(a_img, tf.float32)\n",
    "a_img = tf.image.resize(a_img, size=[480,560])\n",
    "a_img = tf.expand_dims(a_img, axis=0)"
   ]
  },
  {
   "cell_type": "code",
   "execution_count": 35,
   "metadata": {
    "colab": {},
    "colab_type": "code",
    "id": "f3ayDmJXXOao"
   },
   "outputs": [],
   "source": [
    "autoencoder.save('autoencoder.h5')"
   ]
  },
  {
   "cell_type": "code",
   "execution_count": 33,
   "metadata": {},
   "outputs": [],
   "source": [
    "autoencoder.save_weights('autoencoder_weights.h5')"
   ]
  },
  {
   "cell_type": "code",
   "execution_count": 4,
   "metadata": {
    "pycharm": {
     "name": "#%%\n"
    }
   },
   "outputs": [
    {
     "name": "stdout",
     "output_type": "stream",
     "text": [
      "WARNING:tensorflow:Sequential models without an `input_shape` passed to the first layer cannot reload their optimizer state. As a result, your model isstarting with a freshly initialized optimizer.\n"
     ]
    }
   ],
   "source": [
    "autoencoder = keras.models.load_model('autoencoder.h5')\n",
    "\n",
    "\n"
   ]
  }
 ],
 "metadata": {
  "accelerator": "GPU",
  "colab": {
   "collapsed_sections": [],
   "name": "Welcome To Colaboratory",
   "provenance": []
  },
  "kernelspec": {
   "display_name": "Python 3",
   "language": "python",
   "name": "python3"
  },
  "language_info": {
   "codemirror_mode": {
    "name": "ipython",
    "version": 3
   },
   "file_extension": ".py",
   "mimetype": "text/x-python",
   "name": "python",
   "nbconvert_exporter": "python",
   "pygments_lexer": "ipython3",
   "version": "3.6.5"
  },
  "toc": {
   "base_numbering": 1,
   "nav_menu": {},
   "number_sections": true,
   "sideBar": true,
   "skip_h1_title": false,
   "title_cell": "Table of Contents",
   "title_sidebar": "Contents",
   "toc_cell": false,
   "toc_position": {},
   "toc_section_display": true,
   "toc_window_display": false
  },
  "pycharm": {
   "stem_cell": {
    "cell_type": "raw",
    "source": [],
    "metadata": {
     "collapsed": false
    }
   }
  }
 },
 "nbformat": 4,
 "nbformat_minor": 1
}